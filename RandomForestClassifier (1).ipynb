{
  "nbformat": 4,
  "nbformat_minor": 0,
  "metadata": {
    "colab": {
      "name": "RandomForestClassifier.ipynb",
      "version": "0.3.2",
      "provenance": [],
      "collapsed_sections": []
    },
    "kernelspec": {
      "name": "python3",
      "display_name": "Python 3"
    }
  },
  "cells": [
    {
      "cell_type": "markdown",
      "metadata": {
        "id": "l08Luyax5pwg",
        "colab_type": "text"
      },
      "source": [
        "## Smart-Healthcare\n",
        "\n",
        "### Big Data Project [Elective-II Course]\n",
        "Bachelor of Computer Engineering (BCT)\n",
        "\n",
        "Institute of Engineering, Pulchowk Campus\n",
        "----------------------------------------------------\n",
        "UCI ML Dataset: \n",
        "Diabetes 130-US hospitals for years 1999-2008 Data Set \n",
        "\n",
        "Random Forest Classifier Analysis\n",
        "----------------------------------------"
      ]
    },
    {
      "cell_type": "code",
      "metadata": {
        "id": "Bw-rde5K4PnS",
        "colab_type": "code",
        "colab": {}
      },
      "source": [
        "# execute this block when running on google colab\n",
        "!apt-get install openjdk-8-jdk\n",
        "!wget https://www-us.apache.org/dist/spark/spark-2.4.3/spark-2.4.3-bin-hadoop2.7.tgz \n",
        "!tar xf spark-2.4.3-bin-hadoop2.7.tgz\n",
        "!pip install findspark\n",
        "!pip install handyspark"
      ],
      "execution_count": 0,
      "outputs": []
    },
    {
      "cell_type": "code",
      "metadata": {
        "id": "UnwzRsY14ZwT",
        "colab_type": "code",
        "outputId": "80788a46-4a91-47c0-a805-c87fa0b52f24",
        "colab": {
          "base_uri": "https://localhost:8080/",
          "height": 34
        }
      },
      "source": [
        "ls"
      ],
      "execution_count": 2,
      "outputs": [
        {
          "output_type": "stream",
          "text": [
            "\u001b[0m\u001b[01;34msample_data\u001b[0m/  \u001b[01;34mspark-2.4.3-bin-hadoop2.7\u001b[0m/  spark-2.4.3-bin-hadoop2.7.tgz\n"
          ],
          "name": "stdout"
        }
      ]
    },
    {
      "cell_type": "code",
      "metadata": {
        "id": "4lBZi2ub4nP1",
        "colab_type": "code",
        "colab": {}
      },
      "source": [
        "import os\n",
        "os.environ[\"JAVA_HOME\"] = \"/usr/lib/jvm/java-8-openjdk-amd64\"\n",
        "os.environ[\"SPARK_HOME\"] = \"/content/spark-2.4.3-bin-hadoop2.7\""
      ],
      "execution_count": 0,
      "outputs": []
    },
    {
      "cell_type": "markdown",
      "metadata": {
        "id": "iHYcQ3b85FO8",
        "colab_type": "text"
      },
      "source": [
        "## Clone the repo"
      ]
    },
    {
      "cell_type": "code",
      "metadata": {
        "id": "mBXkRQyc4vyF",
        "colab_type": "code",
        "outputId": "48103a00-35d1-4420-d065-96492cfc34a0",
        "colab": {
          "base_uri": "https://localhost:8080/",
          "height": 119
        }
      },
      "source": [
        "!git clone https://github.com/atosh502/smarter-healthcare.git"
      ],
      "execution_count": 4,
      "outputs": [
        {
          "output_type": "stream",
          "text": [
            "Cloning into 'smarter-healthcare'...\n",
            "remote: Enumerating objects: 51, done.\u001b[K\n",
            "remote: Counting objects: 100% (51/51), done.\u001b[K\n",
            "remote: Compressing objects: 100% (41/41), done.\u001b[K\n",
            "remote: Total 51 (delta 11), reused 34 (delta 4), pack-reused 0\u001b[K\n",
            "Unpacking objects: 100% (51/51), done.\n"
          ],
          "name": "stdout"
        }
      ]
    },
    {
      "cell_type": "code",
      "metadata": {
        "id": "IzcthVQH5LNx",
        "colab_type": "code",
        "outputId": "ea3442d0-293f-4133-a2a5-54040d2f97bf",
        "colab": {
          "base_uri": "https://localhost:8080/",
          "height": 34
        }
      },
      "source": [
        "%cd /content/smarter-healthcare"
      ],
      "execution_count": 5,
      "outputs": [
        {
          "output_type": "stream",
          "text": [
            "/content/smarter-healthcare\n"
          ],
          "name": "stdout"
        }
      ]
    },
    {
      "cell_type": "markdown",
      "metadata": {
        "id": "RpU6Qcpr5ctG",
        "colab_type": "text"
      },
      "source": [
        "## Initialize SparkContext"
      ]
    },
    {
      "cell_type": "code",
      "metadata": {
        "id": "897GKurN5U2v",
        "colab_type": "code",
        "colab": {}
      },
      "source": [
        "import findspark\n",
        "from handyspark import *\n",
        "findspark.init()\n",
        "from pyspark import SparkContext, SparkConf\n",
        "sc = SparkContext(master=\"local[4]\")"
      ],
      "execution_count": 0,
      "outputs": []
    },
    {
      "cell_type": "code",
      "metadata": {
        "id": "GAcsep1b6nat",
        "colab_type": "code",
        "colab": {}
      },
      "source": [
        "##import RandomForest\n",
        "from pyspark.ml.classification import RandomForestClassifier\n",
        "from pyspark.ml.feature import VectorAssembler\n",
        "from pyspark.sql import SparkSession\n",
        "spark=SparkSession.builder.getOrCreate()"
      ],
      "execution_count": 0,
      "outputs": []
    },
    {
      "cell_type": "code",
      "metadata": {
        "id": "3mPA7ZRb74BX",
        "colab_type": "code",
        "colab": {}
      },
      "source": [
        "##read pre-processed dataset\n",
        "df=spark.read.parquet(\"./parquet_files/dataset.parquet\")"
      ],
      "execution_count": 0,
      "outputs": []
    },
    {
      "cell_type": "code",
      "metadata": {
        "id": "UhkZc7KX8Kus",
        "colab_type": "code",
        "colab": {}
      },
      "source": [
        "df.show()"
      ],
      "execution_count": 0,
      "outputs": []
    },
    {
      "cell_type": "code",
      "metadata": {
        "id": "FdYxIGDH8MNF",
        "colab_type": "code",
        "colab": {}
      },
      "source": [
        "label=\"readmitted\"\n",
        "features=df.drop(\"readmitted\").columns"
      ],
      "execution_count": 0,
      "outputs": []
    },
    {
      "cell_type": "code",
      "metadata": {
        "id": "VB1K3gtj8huS",
        "colab_type": "code",
        "colab": {}
      },
      "source": [
        "vassem=VectorAssembler(inputCols=features,outputCol=\"features\")\n",
        "data=vassem.transform(df).select(label,\"features\")\n",
        "data.show()"
      ],
      "execution_count": 0,
      "outputs": []
    },
    {
      "cell_type": "markdown",
      "metadata": {
        "id": "gU51i2I0BjOA",
        "colab_type": "text"
      },
      "source": [
        "## Split the dataset into training and testing"
      ]
    },
    {
      "cell_type": "code",
      "metadata": {
        "id": "YmyLwdh5-lUL",
        "colab_type": "code",
        "colab": {}
      },
      "source": [
        "train,test=data.randomSplit([0.7,0.3])"
      ],
      "execution_count": 0,
      "outputs": []
    },
    {
      "cell_type": "markdown",
      "metadata": {
        "id": "usXe3haqBd1q",
        "colab_type": "text"
      },
      "source": [
        "## Instantiate and Train the model"
      ]
    },
    {
      "cell_type": "code",
      "metadata": {
        "id": "Gz5Mhh6uATGB",
        "colab_type": "code",
        "colab": {}
      },
      "source": [
        "##instantiate RandomForestClassifier\n",
        "rfc=RandomForestClassifier(labelCol=\"readmitted\", featuresCol=\"features\", maxDepth=10, maxBins=2400000, numTrees=130,impurity='gini')\n",
        "##train the model\n",
        "model=rfc.fit(train)"
      ],
      "execution_count": 0,
      "outputs": []
    },
    {
      "cell_type": "markdown",
      "metadata": {
        "id": "k4rV4-otBZjz",
        "colab_type": "text"
      },
      "source": [
        "## Make Predictions"
      ]
    },
    {
      "cell_type": "code",
      "metadata": {
        "id": "hglQN6ZoBMet",
        "colab_type": "code",
        "colab": {}
      },
      "source": [
        "predictions=model.transform(test)"
      ],
      "execution_count": 0,
      "outputs": []
    },
    {
      "cell_type": "code",
      "metadata": {
        "id": "sf8iT-SbBujx",
        "colab_type": "code",
        "colab": {}
      },
      "source": [
        "predictions.show(10)"
      ],
      "execution_count": 0,
      "outputs": []
    },
    {
      "cell_type": "markdown",
      "metadata": {
        "id": "L83TI-gHB5EW",
        "colab_type": "text"
      },
      "source": [
        "## Evaluate our model"
      ]
    },
    {
      "cell_type": "code",
      "metadata": {
        "id": "XSb7PwWuCZIP",
        "colab_type": "code",
        "colab": {
          "base_uri": "https://localhost:8080/",
          "height": 34
        },
        "outputId": "59c75dfd-715c-41d4-ba46-1bbb6b1eddaa"
      },
      "source": [
        "## Check Accuracy\n",
        "correct_predictions=predictions.select(\"*\").where(predictions['readmitted']==predictions['prediction'])\n",
        "accuracy=correct_predictions.count()/predictions.count()\n",
        "print(\"prediction accuracy \",accuracy)"
      ],
      "execution_count": 17,
      "outputs": [
        {
          "output_type": "stream",
          "text": [
            "prediction accuracy  0.6201914886367508\n"
          ],
          "name": "stdout"
        }
      ]
    },
    {
      "cell_type": "code",
      "metadata": {
        "id": "pFMaTZkiKmFO",
        "colab_type": "code",
        "colab": {}
      },
      "source": [
        "##handy spark \n",
        "## get classification metrics\n",
        "bcm = BinaryClassificationMetrics(predictions, scoreCol='probability', labelCol='readmitted')"
      ],
      "execution_count": 0,
      "outputs": []
    },
    {
      "cell_type": "code",
      "metadata": {
        "id": "d4abSE2lNm40",
        "colab_type": "code",
        "colab": {
          "base_uri": "https://localhost:8080/",
          "height": 34
        },
        "outputId": "26c7ed2f-4876-40ad-e323-75479ed6906d"
      },
      "source": [
        "bcm.areaUnderROC"
      ],
      "execution_count": 19,
      "outputs": [
        {
          "output_type": "execute_result",
          "data": {
            "text/plain": [
              "0.6623121310749728"
            ]
          },
          "metadata": {
            "tags": []
          },
          "execution_count": 19
        }
      ]
    },
    {
      "cell_type": "code",
      "metadata": {
        "id": "0LTdBAqAQU7f",
        "colab_type": "code",
        "colab": {
          "base_uri": "https://localhost:8080/",
          "height": 312
        },
        "outputId": "adbc9126-403f-48e1-df81-c5166f8f240c"
      },
      "source": [
        "import matplotlib.pyplot as plt\n",
        "fig, axs = plt.subplots(1, 2, figsize=(12, 4))\n",
        "bcm.plot_roc_curve(ax=axs[0])\n",
        "bcm.plot_pr_curve(ax=axs[1])"
      ],
      "execution_count": 20,
      "outputs": [
        {
          "output_type": "execute_result",
          "data": {
            "text/plain": [
              "<matplotlib.axes._subplots.AxesSubplot at 0x7fb1c0d7d780>"
            ]
          },
          "metadata": {
            "tags": []
          },
          "execution_count": 20
        },
        {
          "output_type": "display_data",
          "data": {
            "image/png": "[encoded data removed]",
            "text/plain": [
              "<Figure size 864x288 with 2 Axes>"
            ]
          },
          "metadata": {
            "tags": []
          }
        }
      ]
    },
    {
      "cell_type": "markdown",
      "metadata": {
        "id": "Oui3X025WBtm",
        "colab_type": "text"
      },
      "source": [
        "## Confusion Matrix"
      ]
    },
    {
      "cell_type": "code",
      "metadata": {
        "id": "S7Szh2dUVqmI",
        "colab_type": "code",
        "colab": {
          "base_uri": "https://localhost:8080/",
          "height": 142
        },
        "outputId": "59c7c5b4-8c6c-416c-f052-dfcaa30dbb8f"
      },
      "source": [
        "bcm.print_confusion_matrix(.5)"
      ],
      "execution_count": 24,
      "outputs": [
        {
          "output_type": "execute_result",
          "data": {
            "text/html": [
              "<div>\n",
              "<style scoped>\n",
              "    .dataframe tbody tr th:only-of-type {\n",
              "        vertical-align: middle;\n",
              "    }\n",
              "\n",
              "    .dataframe tbody tr th {\n",
              "        vertical-align: top;\n",
              "    }\n",
              "\n",
              "    .dataframe thead tr th {\n",
              "        text-align: left;\n",
              "    }\n",
              "</style>\n",
              "<table border=\"1\" class=\"dataframe\">\n",
              "  <thead>\n",
              "    <tr>\n",
              "      <th></th>\n",
              "      <th></th>\n",
              "      <th colspan=\"2\" halign=\"left\">Predicted</th>\n",
              "    </tr>\n",
              "    <tr>\n",
              "      <th></th>\n",
              "      <th></th>\n",
              "      <th>0</th>\n",
              "      <th>1</th>\n",
              "    </tr>\n",
              "  </thead>\n",
              "  <tbody>\n",
              "    <tr>\n",
              "      <th rowspan=\"2\" valign=\"top\">Actual</th>\n",
              "      <th>0</th>\n",
              "      <td>11664.0</td>\n",
              "      <td>4067.0</td>\n",
              "    </tr>\n",
              "    <tr>\n",
              "      <th>1</th>\n",
              "      <td>7080.0</td>\n",
              "      <td>6538.0</td>\n",
              "    </tr>\n",
              "  </tbody>\n",
              "</table>\n",
              "</div>"
            ],
            "text/plain": [
              "         Predicted        \n",
              "                 0       1\n",
              "Actual 0   11664.0  4067.0\n",
              "       1    7080.0  6538.0"
            ]
          },
          "metadata": {
            "tags": []
          },
          "execution_count": 24
        }
      ]
    },
    {
      "cell_type": "code",
      "metadata": {
        "id": "OfAQzKT7Apu5",
        "colab_type": "code",
        "colab": {}
      },
      "source": [
        ""
      ],
      "execution_count": 0,
      "outputs": []
    }
  ]
}