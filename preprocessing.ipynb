{
 "cells": [
  {
   "cell_type": "markdown",
   "metadata": {},
   "source": [
    "### Imports"
   ]
  },
  {
   "cell_type": "code",
   "execution_count": 1,
   "metadata": {},
   "outputs": [],
   "source": [
    "import findspark\n",
    "findspark.init()\n",
    "from pyspark import SparkContext, SparkConf\n",
    "sc = SparkContext(master=\"local[4]\")"
   ]
  },
  {
   "cell_type": "code",
   "execution_count": 2,
   "metadata": {},
   "outputs": [],
   "source": [
    "from pyspark.sql import SparkSession\n",
    "spark = SparkSession.builder.getOrCreate()"
   ]
  },
  {
   "cell_type": "code",
   "execution_count": 3,
   "metadata": {},
   "outputs": [],
   "source": [
    "import pyspark.sql.functions as F"
   ]
  },
  {
   "cell_type": "code",
   "execution_count": 4,
   "metadata": {},
   "outputs": [],
   "source": [
    "from pyspark.sql.types import *"
   ]
  },
  {
   "cell_type": "markdown",
   "metadata": {},
   "source": [
    "### Dataset"
   ]
  },
  {
   "cell_type": "code",
   "execution_count": 36,
   "metadata": {},
   "outputs": [],
   "source": [
    "dataset_path = \"./dataset_diabetes/diabetic_data.csv\"\n",
    "\n",
    "dataset = spark.read.csv(dataset_path,\n",
    "                         sep=\",\",\n",
    "                         header=True,\n",
    "                         inferSchema=True,\n",
    "                         nullValue=\"?\")"
   ]
  },
  {
   "cell_type": "code",
   "execution_count": 37,
   "metadata": {},
   "outputs": [
    {
     "data": {
      "text/plain": [
       "pyspark.sql.dataframe.DataFrame"
      ]
     },
     "execution_count": 37,
     "metadata": {},
     "output_type": "execute_result"
    }
   ],
   "source": [
    "type(dataset)"
   ]
  },
  {
   "cell_type": "code",
   "execution_count": 38,
   "metadata": {},
   "outputs": [
    {
     "data": {
      "text/plain": [
       "101766"
      ]
     },
     "execution_count": 38,
     "metadata": {},
     "output_type": "execute_result"
    }
   ],
   "source": [
    "dataset.count()"
   ]
  },
  {
   "cell_type": "code",
   "execution_count": 39,
   "metadata": {},
   "outputs": [
    {
     "data": {
      "text/plain": [
       "[('encounter_id', 'int'),\n",
       " ('patient_nbr', 'int'),\n",
       " ('race', 'string'),\n",
       " ('gender', 'string'),\n",
       " ('age', 'string'),\n",
       " ('weight', 'string'),\n",
       " ('admission_type_id', 'int'),\n",
       " ('discharge_disposition_id', 'int'),\n",
       " ('admission_source_id', 'int'),\n",
       " ('time_in_hospital', 'int'),\n",
       " ('payer_code', 'string'),\n",
       " ('medical_specialty', 'string'),\n",
       " ('num_lab_procedures', 'int'),\n",
       " ('num_procedures', 'int'),\n",
       " ('num_medications', 'int'),\n",
       " ('number_outpatient', 'int'),\n",
       " ('number_emergency', 'int'),\n",
       " ('number_inpatient', 'int'),\n",
       " ('diag_1', 'string'),\n",
       " ('diag_2', 'string'),\n",
       " ('diag_3', 'string'),\n",
       " ('number_diagnoses', 'int'),\n",
       " ('max_glu_serum', 'string'),\n",
       " ('A1Cresult', 'string'),\n",
       " ('metformin', 'string'),\n",
       " ('repaglinide', 'string'),\n",
       " ('nateglinide', 'string'),\n",
       " ('chlorpropamide', 'string'),\n",
       " ('glimepiride', 'string'),\n",
       " ('acetohexamide', 'string'),\n",
       " ('glipizide', 'string'),\n",
       " ('glyburide', 'string'),\n",
       " ('tolbutamide', 'string'),\n",
       " ('pioglitazone', 'string'),\n",
       " ('rosiglitazone', 'string'),\n",
       " ('acarbose', 'string'),\n",
       " ('miglitol', 'string'),\n",
       " ('troglitazone', 'string'),\n",
       " ('tolazamide', 'string'),\n",
       " ('examide', 'string'),\n",
       " ('citoglipton', 'string'),\n",
       " ('insulin', 'string'),\n",
       " ('glyburide-metformin', 'string'),\n",
       " ('glipizide-metformin', 'string'),\n",
       " ('glimepiride-pioglitazone', 'string'),\n",
       " ('metformin-rosiglitazone', 'string'),\n",
       " ('metformin-pioglitazone', 'string'),\n",
       " ('change', 'string'),\n",
       " ('diabetesMed', 'string'),\n",
       " ('readmitted', 'string')]"
      ]
     },
     "execution_count": 39,
     "metadata": {},
     "output_type": "execute_result"
    }
   ],
   "source": [
    "dataset.dtypes"
   ]
  },
  {
   "cell_type": "code",
   "execution_count": 40,
   "metadata": {},
   "outputs": [
    {
     "data": {
      "text/plain": [
       "{'encounter_id': 2278392,\n",
       " 'patient_nbr': 8222157,\n",
       " 'race': 'Caucasian',\n",
       " 'gender': 'Female',\n",
       " 'age': '[0-10)',\n",
       " 'weight': None,\n",
       " 'admission_type_id': 6,\n",
       " 'discharge_disposition_id': 25,\n",
       " 'admission_source_id': 1,\n",
       " 'time_in_hospital': 1,\n",
       " 'payer_code': None,\n",
       " 'medical_specialty': 'Pediatrics-Endocrinology',\n",
       " 'num_lab_procedures': 41,\n",
       " 'num_procedures': 0,\n",
       " 'num_medications': 1,\n",
       " 'number_outpatient': 0,\n",
       " 'number_emergency': 0,\n",
       " 'number_inpatient': 0,\n",
       " 'diag_1': '250.83',\n",
       " 'diag_2': None,\n",
       " 'diag_3': None,\n",
       " 'number_diagnoses': 1,\n",
       " 'max_glu_serum': 'None',\n",
       " 'A1Cresult': 'None',\n",
       " 'metformin': 'No',\n",
       " 'repaglinide': 'No',\n",
       " 'nateglinide': 'No',\n",
       " 'chlorpropamide': 'No',\n",
       " 'glimepiride': 'No',\n",
       " 'acetohexamide': 'No',\n",
       " 'glipizide': 'No',\n",
       " 'glyburide': 'No',\n",
       " 'tolbutamide': 'No',\n",
       " 'pioglitazone': 'No',\n",
       " 'rosiglitazone': 'No',\n",
       " 'acarbose': 'No',\n",
       " 'miglitol': 'No',\n",
       " 'troglitazone': 'No',\n",
       " 'tolazamide': 'No',\n",
       " 'examide': 'No',\n",
       " 'citoglipton': 'No',\n",
       " 'insulin': 'No',\n",
       " 'glyburide-metformin': 'No',\n",
       " 'glipizide-metformin': 'No',\n",
       " 'glimepiride-pioglitazone': 'No',\n",
       " 'metformin-rosiglitazone': 'No',\n",
       " 'metformin-pioglitazone': 'No',\n",
       " 'change': 'No',\n",
       " 'diabetesMed': 'No',\n",
       " 'readmitted': 'NO'}"
      ]
     },
     "execution_count": 40,
     "metadata": {},
     "output_type": "execute_result"
    }
   ],
   "source": [
    "dataset.first().asDict()"
   ]
  },
  {
   "cell_type": "code",
   "execution_count": 41,
   "metadata": {},
   "outputs": [
    {
     "name": "stdout",
     "output_type": "stream",
     "text": [
      "root\n",
      " |-- encounter_id: integer (nullable = true)\n",
      " |-- patient_nbr: integer (nullable = true)\n",
      " |-- race: string (nullable = true)\n",
      " |-- gender: string (nullable = true)\n",
      " |-- age: string (nullable = true)\n",
      " |-- weight: string (nullable = true)\n",
      " |-- admission_type_id: integer (nullable = true)\n",
      " |-- discharge_disposition_id: integer (nullable = true)\n",
      " |-- admission_source_id: integer (nullable = true)\n",
      " |-- time_in_hospital: integer (nullable = true)\n",
      " |-- payer_code: string (nullable = true)\n",
      " |-- medical_specialty: string (nullable = true)\n",
      " |-- num_lab_procedures: integer (nullable = true)\n",
      " |-- num_procedures: integer (nullable = true)\n",
      " |-- num_medications: integer (nullable = true)\n",
      " |-- number_outpatient: integer (nullable = true)\n",
      " |-- number_emergency: integer (nullable = true)\n",
      " |-- number_inpatient: integer (nullable = true)\n",
      " |-- diag_1: string (nullable = true)\n",
      " |-- diag_2: string (nullable = true)\n",
      " |-- diag_3: string (nullable = true)\n",
      " |-- number_diagnoses: integer (nullable = true)\n",
      " |-- max_glu_serum: string (nullable = true)\n",
      " |-- A1Cresult: string (nullable = true)\n",
      " |-- metformin: string (nullable = true)\n",
      " |-- repaglinide: string (nullable = true)\n",
      " |-- nateglinide: string (nullable = true)\n",
      " |-- chlorpropamide: string (nullable = true)\n",
      " |-- glimepiride: string (nullable = true)\n",
      " |-- acetohexamide: string (nullable = true)\n",
      " |-- glipizide: string (nullable = true)\n",
      " |-- glyburide: string (nullable = true)\n",
      " |-- tolbutamide: string (nullable = true)\n",
      " |-- pioglitazone: string (nullable = true)\n",
      " |-- rosiglitazone: string (nullable = true)\n",
      " |-- acarbose: string (nullable = true)\n",
      " |-- miglitol: string (nullable = true)\n",
      " |-- troglitazone: string (nullable = true)\n",
      " |-- tolazamide: string (nullable = true)\n",
      " |-- examide: string (nullable = true)\n",
      " |-- citoglipton: string (nullable = true)\n",
      " |-- insulin: string (nullable = true)\n",
      " |-- glyburide-metformin: string (nullable = true)\n",
      " |-- glipizide-metformin: string (nullable = true)\n",
      " |-- glimepiride-pioglitazone: string (nullable = true)\n",
      " |-- metformin-rosiglitazone: string (nullable = true)\n",
      " |-- metformin-pioglitazone: string (nullable = true)\n",
      " |-- change: string (nullable = true)\n",
      " |-- diabetesMed: string (nullable = true)\n",
      " |-- readmitted: string (nullable = true)\n",
      "\n"
     ]
    }
   ],
   "source": [
    "dataset.printSchema()"
   ]
  },
  {
   "cell_type": "markdown",
   "metadata": {},
   "source": [
    "#### Most missing data at columns (indicated by ?): Weight, Payer Code, and Medical Speciality"
   ]
  },
  {
   "cell_type": "code",
   "execution_count": 42,
   "metadata": {},
   "outputs": [
    {
     "data": {
      "text/plain": [
       "{'encounter_id': 0,\n",
       " 'patient_nbr': 0,\n",
       " 'race': 2273,\n",
       " 'gender': 0,\n",
       " 'age': 0,\n",
       " 'weight': 98569,\n",
       " 'admission_type_id': 0,\n",
       " 'discharge_disposition_id': 0,\n",
       " 'admission_source_id': 0,\n",
       " 'time_in_hospital': 0,\n",
       " 'payer_code': 40256,\n",
       " 'medical_specialty': 49949,\n",
       " 'num_lab_procedures': 0,\n",
       " 'num_procedures': 0,\n",
       " 'num_medications': 0,\n",
       " 'number_outpatient': 0,\n",
       " 'number_emergency': 0,\n",
       " 'number_inpatient': 0,\n",
       " 'diag_1': 21,\n",
       " 'diag_2': 358,\n",
       " 'diag_3': 1423,\n",
       " 'number_diagnoses': 0,\n",
       " 'max_glu_serum': 0,\n",
       " 'A1Cresult': 0,\n",
       " 'metformin': 0,\n",
       " 'repaglinide': 0,\n",
       " 'nateglinide': 0,\n",
       " 'chlorpropamide': 0,\n",
       " 'glimepiride': 0,\n",
       " 'acetohexamide': 0,\n",
       " 'glipizide': 0,\n",
       " 'glyburide': 0,\n",
       " 'tolbutamide': 0,\n",
       " 'pioglitazone': 0,\n",
       " 'rosiglitazone': 0,\n",
       " 'acarbose': 0,\n",
       " 'miglitol': 0,\n",
       " 'troglitazone': 0,\n",
       " 'tolazamide': 0,\n",
       " 'examide': 0,\n",
       " 'citoglipton': 0,\n",
       " 'insulin': 0,\n",
       " 'glyburide-metformin': 0,\n",
       " 'glipizide-metformin': 0,\n",
       " 'glimepiride-pioglitazone': 0,\n",
       " 'metformin-rosiglitazone': 0,\n",
       " 'metformin-pioglitazone': 0,\n",
       " 'change': 0,\n",
       " 'diabetesMed': 0,\n",
       " 'readmitted': 0}"
      ]
     },
     "execution_count": 42,
     "metadata": {},
     "output_type": "execute_result"
    }
   ],
   "source": [
    "# counting null values\n",
    "dataset.select([F.count(F.when(F.isnull(c), c)).alias(c) for c in dataset.columns]).first().asDict()"
   ]
  },
  {
   "cell_type": "code",
   "execution_count": 43,
   "metadata": {},
   "outputs": [],
   "source": [
    "# drop the columns\n",
    "dataset = dataset.drop(dataset.weight)\n",
    "dataset = dataset.drop(dataset.payer_code)\n",
    "dataset = dataset.drop(dataset.medical_specialty)"
   ]
  },
  {
   "cell_type": "code",
   "execution_count": 44,
   "metadata": {},
   "outputs": [],
   "source": [
    "dataset = dataset.dropna()"
   ]
  },
  {
   "cell_type": "code",
   "execution_count": 45,
   "metadata": {},
   "outputs": [
    {
     "data": {
      "text/plain": [
       "{'encounter_id': 0,\n",
       " 'patient_nbr': 0,\n",
       " 'race': 0,\n",
       " 'gender': 0,\n",
       " 'age': 0,\n",
       " 'admission_type_id': 0,\n",
       " 'discharge_disposition_id': 0,\n",
       " 'admission_source_id': 0,\n",
       " 'time_in_hospital': 0,\n",
       " 'num_lab_procedures': 0,\n",
       " 'num_procedures': 0,\n",
       " 'num_medications': 0,\n",
       " 'number_outpatient': 0,\n",
       " 'number_emergency': 0,\n",
       " 'number_inpatient': 0,\n",
       " 'diag_1': 0,\n",
       " 'diag_2': 0,\n",
       " 'diag_3': 0,\n",
       " 'number_diagnoses': 0,\n",
       " 'max_glu_serum': 0,\n",
       " 'A1Cresult': 0,\n",
       " 'metformin': 0,\n",
       " 'repaglinide': 0,\n",
       " 'nateglinide': 0,\n",
       " 'chlorpropamide': 0,\n",
       " 'glimepiride': 0,\n",
       " 'acetohexamide': 0,\n",
       " 'glipizide': 0,\n",
       " 'glyburide': 0,\n",
       " 'tolbutamide': 0,\n",
       " 'pioglitazone': 0,\n",
       " 'rosiglitazone': 0,\n",
       " 'acarbose': 0,\n",
       " 'miglitol': 0,\n",
       " 'troglitazone': 0,\n",
       " 'tolazamide': 0,\n",
       " 'examide': 0,\n",
       " 'citoglipton': 0,\n",
       " 'insulin': 0,\n",
       " 'glyburide-metformin': 0,\n",
       " 'glipizide-metformin': 0,\n",
       " 'glimepiride-pioglitazone': 0,\n",
       " 'metformin-rosiglitazone': 0,\n",
       " 'metformin-pioglitazone': 0,\n",
       " 'change': 0,\n",
       " 'diabetesMed': 0,\n",
       " 'readmitted': 0}"
      ]
     },
     "execution_count": 45,
     "metadata": {},
     "output_type": "execute_result"
    }
   ],
   "source": [
    "# counting null values again\n",
    "dataset.select([F.count(F.when(F.isnull(c), c)).alias(c) for c in dataset.columns]).first().asDict()"
   ]
  },
  {
   "cell_type": "code",
   "execution_count": 46,
   "metadata": {},
   "outputs": [
    {
     "data": {
      "text/plain": [
       "98053"
      ]
     },
     "execution_count": 46,
     "metadata": {},
     "output_type": "execute_result"
    }
   ],
   "source": [
    "dataset.count()"
   ]
  },
  {
   "cell_type": "code",
   "execution_count": 47,
   "metadata": {},
   "outputs": [],
   "source": [
    "# drop the columns with IDs\n",
    "dataset = dataset.drop(dataset.encounter_id)\n",
    "dataset = dataset.drop(dataset.patient_nbr)\n",
    "dataset = dataset.drop(dataset.admission_type_id)\n",
    "dataset = dataset.drop(dataset.discharge_disposition_id)\n",
    "dataset = dataset.drop(dataset.admission_source_id)"
   ]
  },
  {
   "cell_type": "markdown",
   "metadata": {},
   "source": [
    "#### convert string/categorical values into integers\n",
    "these string columns will be encoded"
   ]
  },
  {
   "cell_type": "code",
   "execution_count": 48,
   "metadata": {},
   "outputs": [
    {
     "data": {
      "text/plain": [
       "['race',\n",
       " 'gender',\n",
       " 'age',\n",
       " 'max_glu_serum',\n",
       " 'A1Cresult',\n",
       " 'metformin',\n",
       " 'repaglinide',\n",
       " 'nateglinide',\n",
       " 'chlorpropamide',\n",
       " 'glimepiride',\n",
       " 'acetohexamide',\n",
       " 'glipizide',\n",
       " 'glyburide',\n",
       " 'tolbutamide',\n",
       " 'pioglitazone',\n",
       " 'rosiglitazone',\n",
       " 'acarbose',\n",
       " 'miglitol',\n",
       " 'troglitazone',\n",
       " 'tolazamide',\n",
       " 'examide',\n",
       " 'citoglipton',\n",
       " 'insulin',\n",
       " 'glyburide-metformin',\n",
       " 'glipizide-metformin',\n",
       " 'glimepiride-pioglitazone',\n",
       " 'metformin-rosiglitazone',\n",
       " 'metformin-pioglitazone',\n",
       " 'change',\n",
       " 'diabetesMed']"
      ]
     },
     "execution_count": 48,
     "metadata": {},
     "output_type": "execute_result"
    }
   ],
   "source": [
    "string_columns = [column for column in dataset.columns if dataset.schema[column].jsonValue().get('type') == 'string']\n",
    "string_columns.remove('readmitted')\n",
    "string_columns.remove('diag_1')\n",
    "string_columns.remove('diag_2')\n",
    "string_columns.remove('diag_3')\n",
    "string_columns"
   ]
  },
  {
   "cell_type": "markdown",
   "metadata": {},
   "source": [
    "the `readmitted` column should be of numeric type"
   ]
  },
  {
   "cell_type": "code",
   "execution_count": 49,
   "metadata": {},
   "outputs": [
    {
     "data": {
      "text/plain": [
       "['time_in_hospital',\n",
       " 'num_lab_procedures',\n",
       " 'num_procedures',\n",
       " 'num_medications',\n",
       " 'number_outpatient',\n",
       " 'number_emergency',\n",
       " 'number_inpatient',\n",
       " 'number_diagnoses']"
      ]
     },
     "execution_count": 49,
     "metadata": {},
     "output_type": "execute_result"
    }
   ],
   "source": [
    "numeric_columns = [column for column in dataset.columns if dataset.schema[column].jsonValue().get('type') == 'integer']\n",
    "numeric_columns"
   ]
  },
  {
   "cell_type": "code",
   "execution_count": 50,
   "metadata": {},
   "outputs": [],
   "source": [
    "for col in string_columns:\n",
    "    for val in dataset.select(col).distinct().collect():\n",
    "        dataset = dataset.withColumn(col + '_' + val[0], F.when(val[0] == dataset[col], 1).otherwise(0))"
   ]
  },
  {
   "cell_type": "code",
   "execution_count": 52,
   "metadata": {},
   "outputs": [],
   "source": [
    "for col in string_columns:\n",
    "    dataset = dataset.drop(dataset[col])"
   ]
  },
  {
   "cell_type": "code",
   "execution_count": 53,
   "metadata": {},
   "outputs": [
    {
     "name": "stdout",
     "output_type": "stream",
     "text": [
      "root\n",
      " |-- time_in_hospital: integer (nullable = true)\n",
      " |-- num_lab_procedures: integer (nullable = true)\n",
      " |-- num_procedures: integer (nullable = true)\n",
      " |-- num_medications: integer (nullable = true)\n",
      " |-- number_outpatient: integer (nullable = true)\n",
      " |-- number_emergency: integer (nullable = true)\n",
      " |-- number_inpatient: integer (nullable = true)\n",
      " |-- diag_1: string (nullable = true)\n",
      " |-- diag_2: string (nullable = true)\n",
      " |-- diag_3: string (nullable = true)\n",
      " |-- number_diagnoses: integer (nullable = true)\n",
      " |-- readmitted: string (nullable = true)\n",
      " |-- race_Caucasian: integer (nullable = false)\n",
      " |-- race_Other: integer (nullable = false)\n",
      " |-- race_AfricanAmerican: integer (nullable = false)\n",
      " |-- race_Hispanic: integer (nullable = false)\n",
      " |-- race_Asian: integer (nullable = false)\n",
      " |-- gender_Female: integer (nullable = false)\n",
      " |-- gender_Unknown/Invalid: integer (nullable = false)\n",
      " |-- gender_Male: integer (nullable = false)\n",
      " |-- age_[70-80): integer (nullable = false)\n",
      " |-- age_[90-100): integer (nullable = false)\n",
      " |-- age_[40-50): integer (nullable = false)\n",
      " |-- age_[10-20): integer (nullable = false)\n",
      " |-- age_[20-30): integer (nullable = false)\n",
      " |-- age_[30-40): integer (nullable = false)\n",
      " |-- age_[0-10): integer (nullable = false)\n",
      " |-- age_[80-90): integer (nullable = false)\n",
      " |-- age_[50-60): integer (nullable = false)\n",
      " |-- age_[60-70): integer (nullable = false)\n",
      " |-- max_glu_serum_None: integer (nullable = false)\n",
      " |-- max_glu_serum_>300: integer (nullable = false)\n",
      " |-- max_glu_serum_Norm: integer (nullable = false)\n",
      " |-- max_glu_serum_>200: integer (nullable = false)\n",
      " |-- A1Cresult_None: integer (nullable = false)\n",
      " |-- A1Cresult_>8: integer (nullable = false)\n",
      " |-- A1Cresult_Norm: integer (nullable = false)\n",
      " |-- A1Cresult_>7: integer (nullable = false)\n",
      " |-- metformin_Steady: integer (nullable = false)\n",
      " |-- metformin_Up: integer (nullable = false)\n",
      " |-- metformin_No: integer (nullable = false)\n",
      " |-- metformin_Down: integer (nullable = false)\n",
      " |-- repaglinide_Steady: integer (nullable = false)\n",
      " |-- repaglinide_Up: integer (nullable = false)\n",
      " |-- repaglinide_No: integer (nullable = false)\n",
      " |-- repaglinide_Down: integer (nullable = false)\n",
      " |-- nateglinide_Steady: integer (nullable = false)\n",
      " |-- nateglinide_Up: integer (nullable = false)\n",
      " |-- nateglinide_No: integer (nullable = false)\n",
      " |-- nateglinide_Down: integer (nullable = false)\n",
      " |-- chlorpropamide_Steady: integer (nullable = false)\n",
      " |-- chlorpropamide_Up: integer (nullable = false)\n",
      " |-- chlorpropamide_No: integer (nullable = false)\n",
      " |-- chlorpropamide_Down: integer (nullable = false)\n",
      " |-- glimepiride_Steady: integer (nullable = false)\n",
      " |-- glimepiride_Up: integer (nullable = false)\n",
      " |-- glimepiride_No: integer (nullable = false)\n",
      " |-- glimepiride_Down: integer (nullable = false)\n",
      " |-- acetohexamide_Steady: integer (nullable = false)\n",
      " |-- acetohexamide_No: integer (nullable = false)\n",
      " |-- glipizide_Steady: integer (nullable = false)\n",
      " |-- glipizide_Up: integer (nullable = false)\n",
      " |-- glipizide_No: integer (nullable = false)\n",
      " |-- glipizide_Down: integer (nullable = false)\n",
      " |-- glyburide_Steady: integer (nullable = false)\n",
      " |-- glyburide_Up: integer (nullable = false)\n",
      " |-- glyburide_No: integer (nullable = false)\n",
      " |-- glyburide_Down: integer (nullable = false)\n",
      " |-- tolbutamide_Steady: integer (nullable = false)\n",
      " |-- tolbutamide_No: integer (nullable = false)\n",
      " |-- pioglitazone_Steady: integer (nullable = false)\n",
      " |-- pioglitazone_Up: integer (nullable = false)\n",
      " |-- pioglitazone_No: integer (nullable = false)\n",
      " |-- pioglitazone_Down: integer (nullable = false)\n",
      " |-- rosiglitazone_Steady: integer (nullable = false)\n",
      " |-- rosiglitazone_Up: integer (nullable = false)\n",
      " |-- rosiglitazone_No: integer (nullable = false)\n",
      " |-- rosiglitazone_Down: integer (nullable = false)\n",
      " |-- acarbose_Steady: integer (nullable = false)\n",
      " |-- acarbose_Up: integer (nullable = false)\n",
      " |-- acarbose_No: integer (nullable = false)\n",
      " |-- acarbose_Down: integer (nullable = false)\n",
      " |-- miglitol_Steady: integer (nullable = false)\n",
      " |-- miglitol_Up: integer (nullable = false)\n",
      " |-- miglitol_No: integer (nullable = false)\n",
      " |-- miglitol_Down: integer (nullable = false)\n",
      " |-- troglitazone_Steady: integer (nullable = false)\n",
      " |-- troglitazone_No: integer (nullable = false)\n",
      " |-- tolazamide_Steady: integer (nullable = false)\n",
      " |-- tolazamide_Up: integer (nullable = false)\n",
      " |-- tolazamide_No: integer (nullable = false)\n",
      " |-- examide_No: integer (nullable = false)\n",
      " |-- citoglipton_No: integer (nullable = false)\n",
      " |-- insulin_Steady: integer (nullable = false)\n",
      " |-- insulin_Up: integer (nullable = false)\n",
      " |-- insulin_No: integer (nullable = false)\n",
      " |-- insulin_Down: integer (nullable = false)\n",
      " |-- glyburide-metformin_Steady: integer (nullable = false)\n",
      " |-- glyburide-metformin_Up: integer (nullable = false)\n",
      " |-- glyburide-metformin_No: integer (nullable = false)\n",
      " |-- glyburide-metformin_Down: integer (nullable = false)\n",
      " |-- glipizide-metformin_Steady: integer (nullable = false)\n",
      " |-- glipizide-metformin_No: integer (nullable = false)\n",
      " |-- glimepiride-pioglitazone_Steady: integer (nullable = false)\n",
      " |-- glimepiride-pioglitazone_No: integer (nullable = false)\n",
      " |-- metformin-rosiglitazone_No: integer (nullable = false)\n",
      " |-- metformin-pioglitazone_Steady: integer (nullable = false)\n",
      " |-- metformin-pioglitazone_No: integer (nullable = false)\n",
      " |-- change_Ch: integer (nullable = false)\n",
      " |-- change_No: integer (nullable = false)\n",
      " |-- diabetesMed_No: integer (nullable = false)\n",
      " |-- diabetesMed_Yes: integer (nullable = false)\n",
      "\n"
     ]
    }
   ],
   "source": [
    "dataset.printSchema()"
   ]
  },
  {
   "cell_type": "markdown",
   "metadata": {},
   "source": [
    "`diag_1`, `diag_2`, `diag_3` have many unique values which greatly increase the size of dataset\n",
    "so we take only those values of these variables which occur more than 2500 times in the dataset"
   ]
  },
  {
   "cell_type": "code",
   "execution_count": 86,
   "metadata": {},
   "outputs": [],
   "source": [
    "# for diag_1\n",
    "diag1_dataset = dataset.select(\"diag_1\").groupBy(\"diag_1\").count().filter('count > 2500')"
   ]
  },
  {
   "cell_type": "code",
   "execution_count": 88,
   "metadata": {},
   "outputs": [
    {
     "data": {
      "text/plain": [
       "[Row(diag_1='428', count=6730),\n",
       " Row(diag_1='786', count=3900),\n",
       " Row(diag_1='410', count=3514),\n",
       " Row(diag_1='486', count=3412),\n",
       " Row(diag_1='414', count=6374),\n",
       " Row(diag_1='427', count=2701)]"
      ]
     },
     "execution_count": 88,
     "metadata": {},
     "output_type": "execute_result"
    }
   ],
   "source": [
    "diag1_dataset.collect()"
   ]
  },
  {
   "cell_type": "code",
   "execution_count": 89,
   "metadata": {},
   "outputs": [],
   "source": [
    "for val in diag1_dataset.collect():\n",
    "    dataset = dataset.withColumn('diag_1' + '_' + val[0], F.when(val[0] == dataset['diag_1'], 1).otherwise(0))"
   ]
  },
  {
   "cell_type": "code",
   "execution_count": 90,
   "metadata": {},
   "outputs": [],
   "source": [
    "dataset = dataset.drop(dataset['diag_1'])"
   ]
  },
  {
   "cell_type": "code",
   "execution_count": 91,
   "metadata": {},
   "outputs": [],
   "source": [
    "# for diag_2\n",
    "diag2_dataset = dataset.select(\"diag_2\").groupBy(\"diag_2\").count().filter('count > 2500')"
   ]
  },
  {
   "cell_type": "code",
   "execution_count": 92,
   "metadata": {},
   "outputs": [],
   "source": [
    "for val in diag2_dataset.collect():\n",
    "    dataset = dataset.withColumn('diag_2' + '_' + val[0], F.when(val[0] == dataset['diag_2'], 1).otherwise(0))"
   ]
  },
  {
   "cell_type": "code",
   "execution_count": 93,
   "metadata": {},
   "outputs": [],
   "source": [
    "dataset = dataset.drop(dataset['diag_2'])"
   ]
  },
  {
   "cell_type": "code",
   "execution_count": 94,
   "metadata": {},
   "outputs": [],
   "source": [
    "# for diag_2\n",
    "diag3_dataset = dataset.select(\"diag_3\").groupBy(\"diag_3\").count().filter('count > 2500')"
   ]
  },
  {
   "cell_type": "code",
   "execution_count": 95,
   "metadata": {},
   "outputs": [],
   "source": [
    "for val in diag3_dataset.collect():\n",
    "    dataset = dataset.withColumn('diag_3' + '_' + val[0], F.when(val[0] == dataset['diag_3'], 1).otherwise(0))"
   ]
  },
  {
   "cell_type": "code",
   "execution_count": 96,
   "metadata": {},
   "outputs": [],
   "source": [
    "dataset = dataset.drop(dataset['diag_3'])"
   ]
  },
  {
   "cell_type": "code",
   "execution_count": 97,
   "metadata": {},
   "outputs": [
    {
     "name": "stdout",
     "output_type": "stream",
     "text": [
      "root\n",
      " |-- time_in_hospital: integer (nullable = true)\n",
      " |-- num_lab_procedures: integer (nullable = true)\n",
      " |-- num_procedures: integer (nullable = true)\n",
      " |-- num_medications: integer (nullable = true)\n",
      " |-- number_outpatient: integer (nullable = true)\n",
      " |-- number_emergency: integer (nullable = true)\n",
      " |-- number_inpatient: integer (nullable = true)\n",
      " |-- number_diagnoses: integer (nullable = true)\n",
      " |-- readmitted: string (nullable = true)\n",
      " |-- race_Caucasian: integer (nullable = false)\n",
      " |-- race_Other: integer (nullable = false)\n",
      " |-- race_AfricanAmerican: integer (nullable = false)\n",
      " |-- race_Hispanic: integer (nullable = false)\n",
      " |-- race_Asian: integer (nullable = false)\n",
      " |-- gender_Female: integer (nullable = false)\n",
      " |-- gender_Unknown/Invalid: integer (nullable = false)\n",
      " |-- gender_Male: integer (nullable = false)\n",
      " |-- age_[70-80): integer (nullable = false)\n",
      " |-- age_[90-100): integer (nullable = false)\n",
      " |-- age_[40-50): integer (nullable = false)\n",
      " |-- age_[10-20): integer (nullable = false)\n",
      " |-- age_[20-30): integer (nullable = false)\n",
      " |-- age_[30-40): integer (nullable = false)\n",
      " |-- age_[0-10): integer (nullable = false)\n",
      " |-- age_[80-90): integer (nullable = false)\n",
      " |-- age_[50-60): integer (nullable = false)\n",
      " |-- age_[60-70): integer (nullable = false)\n",
      " |-- max_glu_serum_None: integer (nullable = false)\n",
      " |-- max_glu_serum_>300: integer (nullable = false)\n",
      " |-- max_glu_serum_Norm: integer (nullable = false)\n",
      " |-- max_glu_serum_>200: integer (nullable = false)\n",
      " |-- A1Cresult_None: integer (nullable = false)\n",
      " |-- A1Cresult_>8: integer (nullable = false)\n",
      " |-- A1Cresult_Norm: integer (nullable = false)\n",
      " |-- A1Cresult_>7: integer (nullable = false)\n",
      " |-- metformin_Steady: integer (nullable = false)\n",
      " |-- metformin_Up: integer (nullable = false)\n",
      " |-- metformin_No: integer (nullable = false)\n",
      " |-- metformin_Down: integer (nullable = false)\n",
      " |-- repaglinide_Steady: integer (nullable = false)\n",
      " |-- repaglinide_Up: integer (nullable = false)\n",
      " |-- repaglinide_No: integer (nullable = false)\n",
      " |-- repaglinide_Down: integer (nullable = false)\n",
      " |-- nateglinide_Steady: integer (nullable = false)\n",
      " |-- nateglinide_Up: integer (nullable = false)\n",
      " |-- nateglinide_No: integer (nullable = false)\n",
      " |-- nateglinide_Down: integer (nullable = false)\n",
      " |-- chlorpropamide_Steady: integer (nullable = false)\n",
      " |-- chlorpropamide_Up: integer (nullable = false)\n",
      " |-- chlorpropamide_No: integer (nullable = false)\n",
      " |-- chlorpropamide_Down: integer (nullable = false)\n",
      " |-- glimepiride_Steady: integer (nullable = false)\n",
      " |-- glimepiride_Up: integer (nullable = false)\n",
      " |-- glimepiride_No: integer (nullable = false)\n",
      " |-- glimepiride_Down: integer (nullable = false)\n",
      " |-- acetohexamide_Steady: integer (nullable = false)\n",
      " |-- acetohexamide_No: integer (nullable = false)\n",
      " |-- glipizide_Steady: integer (nullable = false)\n",
      " |-- glipizide_Up: integer (nullable = false)\n",
      " |-- glipizide_No: integer (nullable = false)\n",
      " |-- glipizide_Down: integer (nullable = false)\n",
      " |-- glyburide_Steady: integer (nullable = false)\n",
      " |-- glyburide_Up: integer (nullable = false)\n",
      " |-- glyburide_No: integer (nullable = false)\n",
      " |-- glyburide_Down: integer (nullable = false)\n",
      " |-- tolbutamide_Steady: integer (nullable = false)\n",
      " |-- tolbutamide_No: integer (nullable = false)\n",
      " |-- pioglitazone_Steady: integer (nullable = false)\n",
      " |-- pioglitazone_Up: integer (nullable = false)\n",
      " |-- pioglitazone_No: integer (nullable = false)\n",
      " |-- pioglitazone_Down: integer (nullable = false)\n",
      " |-- rosiglitazone_Steady: integer (nullable = false)\n",
      " |-- rosiglitazone_Up: integer (nullable = false)\n",
      " |-- rosiglitazone_No: integer (nullable = false)\n",
      " |-- rosiglitazone_Down: integer (nullable = false)\n",
      " |-- acarbose_Steady: integer (nullable = false)\n",
      " |-- acarbose_Up: integer (nullable = false)\n",
      " |-- acarbose_No: integer (nullable = false)\n",
      " |-- acarbose_Down: integer (nullable = false)\n",
      " |-- miglitol_Steady: integer (nullable = false)\n",
      " |-- miglitol_Up: integer (nullable = false)\n",
      " |-- miglitol_No: integer (nullable = false)\n",
      " |-- miglitol_Down: integer (nullable = false)\n",
      " |-- troglitazone_Steady: integer (nullable = false)\n",
      " |-- troglitazone_No: integer (nullable = false)\n",
      " |-- tolazamide_Steady: integer (nullable = false)\n",
      " |-- tolazamide_Up: integer (nullable = false)\n",
      " |-- tolazamide_No: integer (nullable = false)\n",
      " |-- examide_No: integer (nullable = false)\n",
      " |-- citoglipton_No: integer (nullable = false)\n",
      " |-- insulin_Steady: integer (nullable = false)\n",
      " |-- insulin_Up: integer (nullable = false)\n",
      " |-- insulin_No: integer (nullable = false)\n",
      " |-- insulin_Down: integer (nullable = false)\n",
      " |-- glyburide-metformin_Steady: integer (nullable = false)\n",
      " |-- glyburide-metformin_Up: integer (nullable = false)\n",
      " |-- glyburide-metformin_No: integer (nullable = false)\n",
      " |-- glyburide-metformin_Down: integer (nullable = false)\n",
      " |-- glipizide-metformin_Steady: integer (nullable = false)\n",
      " |-- glipizide-metformin_No: integer (nullable = false)\n",
      " |-- glimepiride-pioglitazone_Steady: integer (nullable = false)\n",
      " |-- glimepiride-pioglitazone_No: integer (nullable = false)\n",
      " |-- metformin-rosiglitazone_No: integer (nullable = false)\n",
      " |-- metformin-pioglitazone_Steady: integer (nullable = false)\n",
      " |-- metformin-pioglitazone_No: integer (nullable = false)\n",
      " |-- change_Ch: integer (nullable = false)\n",
      " |-- change_No: integer (nullable = false)\n",
      " |-- diabetesMed_No: integer (nullable = false)\n",
      " |-- diabetesMed_Yes: integer (nullable = false)\n",
      " |-- diag_1_428: integer (nullable = false)\n",
      " |-- diag_1_786: integer (nullable = false)\n",
      " |-- diag_1_410: integer (nullable = false)\n",
      " |-- diag_1_486: integer (nullable = false)\n",
      " |-- diag_1_414: integer (nullable = false)\n",
      " |-- diag_1_427: integer (nullable = false)\n",
      " |-- diag_2_428: integer (nullable = false)\n",
      " |-- diag_2_250: integer (nullable = false)\n",
      " |-- diag_2_276: integer (nullable = false)\n",
      " |-- diag_2_401: integer (nullable = false)\n",
      " |-- diag_2_496: integer (nullable = false)\n",
      " |-- diag_2_403: integer (nullable = false)\n",
      " |-- diag_2_414: integer (nullable = false)\n",
      " |-- diag_2_427: integer (nullable = false)\n",
      " |-- diag_2_599: integer (nullable = false)\n",
      " |-- diag_3_428: integer (nullable = false)\n",
      " |-- diag_3_250: integer (nullable = false)\n",
      " |-- diag_3_276: integer (nullable = false)\n",
      " |-- diag_3_401: integer (nullable = false)\n",
      " |-- diag_3_496: integer (nullable = false)\n",
      " |-- diag_3_414: integer (nullable = false)\n",
      " |-- diag_3_427: integer (nullable = false)\n",
      "\n"
     ]
    }
   ],
   "source": [
    "dataset.printSchema()"
   ]
  },
  {
   "cell_type": "markdown",
   "metadata": {},
   "source": [
    "now for the `readmitted` column"
   ]
  },
  {
   "cell_type": "code",
   "execution_count": 111,
   "metadata": {},
   "outputs": [],
   "source": [
    "dataset = dataset.withColumn(\"readmitted\", F.when(dataset[\"readmitted\"] == \"NO\", 0).otherwise(1))"
   ]
  },
  {
   "cell_type": "code",
   "execution_count": 112,
   "metadata": {},
   "outputs": [
    {
     "data": {
      "text/plain": [
       "98053"
      ]
     },
     "execution_count": 112,
     "metadata": {},
     "output_type": "execute_result"
    }
   ],
   "source": [
    "dataset.count()"
   ]
  },
  {
   "cell_type": "code",
   "execution_count": 113,
   "metadata": {},
   "outputs": [
    {
     "name": "stdout",
     "output_type": "stream",
     "text": [
      "root\n",
      " |-- time_in_hospital: integer (nullable = true)\n",
      " |-- num_lab_procedures: integer (nullable = true)\n",
      " |-- num_procedures: integer (nullable = true)\n",
      " |-- num_medications: integer (nullable = true)\n",
      " |-- number_outpatient: integer (nullable = true)\n",
      " |-- number_emergency: integer (nullable = true)\n",
      " |-- number_inpatient: integer (nullable = true)\n",
      " |-- number_diagnoses: integer (nullable = true)\n",
      " |-- readmitted: integer (nullable = false)\n",
      " |-- race_Caucasian: integer (nullable = false)\n",
      " |-- race_Other: integer (nullable = false)\n",
      " |-- race_AfricanAmerican: integer (nullable = false)\n",
      " |-- race_Hispanic: integer (nullable = false)\n",
      " |-- race_Asian: integer (nullable = false)\n",
      " |-- gender_Female: integer (nullable = false)\n",
      " |-- gender_Unknown/Invalid: integer (nullable = false)\n",
      " |-- gender_Male: integer (nullable = false)\n",
      " |-- age_[70-80): integer (nullable = false)\n",
      " |-- age_[90-100): integer (nullable = false)\n",
      " |-- age_[40-50): integer (nullable = false)\n",
      " |-- age_[10-20): integer (nullable = false)\n",
      " |-- age_[20-30): integer (nullable = false)\n",
      " |-- age_[30-40): integer (nullable = false)\n",
      " |-- age_[0-10): integer (nullable = false)\n",
      " |-- age_[80-90): integer (nullable = false)\n",
      " |-- age_[50-60): integer (nullable = false)\n",
      " |-- age_[60-70): integer (nullable = false)\n",
      " |-- max_glu_serum_None: integer (nullable = false)\n",
      " |-- max_glu_serum_>300: integer (nullable = false)\n",
      " |-- max_glu_serum_Norm: integer (nullable = false)\n",
      " |-- max_glu_serum_>200: integer (nullable = false)\n",
      " |-- A1Cresult_None: integer (nullable = false)\n",
      " |-- A1Cresult_>8: integer (nullable = false)\n",
      " |-- A1Cresult_Norm: integer (nullable = false)\n",
      " |-- A1Cresult_>7: integer (nullable = false)\n",
      " |-- metformin_Steady: integer (nullable = false)\n",
      " |-- metformin_Up: integer (nullable = false)\n",
      " |-- metformin_No: integer (nullable = false)\n",
      " |-- metformin_Down: integer (nullable = false)\n",
      " |-- repaglinide_Steady: integer (nullable = false)\n",
      " |-- repaglinide_Up: integer (nullable = false)\n",
      " |-- repaglinide_No: integer (nullable = false)\n",
      " |-- repaglinide_Down: integer (nullable = false)\n",
      " |-- nateglinide_Steady: integer (nullable = false)\n",
      " |-- nateglinide_Up: integer (nullable = false)\n",
      " |-- nateglinide_No: integer (nullable = false)\n",
      " |-- nateglinide_Down: integer (nullable = false)\n",
      " |-- chlorpropamide_Steady: integer (nullable = false)\n",
      " |-- chlorpropamide_Up: integer (nullable = false)\n",
      " |-- chlorpropamide_No: integer (nullable = false)\n",
      " |-- chlorpropamide_Down: integer (nullable = false)\n",
      " |-- glimepiride_Steady: integer (nullable = false)\n",
      " |-- glimepiride_Up: integer (nullable = false)\n",
      " |-- glimepiride_No: integer (nullable = false)\n",
      " |-- glimepiride_Down: integer (nullable = false)\n",
      " |-- acetohexamide_Steady: integer (nullable = false)\n",
      " |-- acetohexamide_No: integer (nullable = false)\n",
      " |-- glipizide_Steady: integer (nullable = false)\n",
      " |-- glipizide_Up: integer (nullable = false)\n",
      " |-- glipizide_No: integer (nullable = false)\n",
      " |-- glipizide_Down: integer (nullable = false)\n",
      " |-- glyburide_Steady: integer (nullable = false)\n",
      " |-- glyburide_Up: integer (nullable = false)\n",
      " |-- glyburide_No: integer (nullable = false)\n",
      " |-- glyburide_Down: integer (nullable = false)\n",
      " |-- tolbutamide_Steady: integer (nullable = false)\n",
      " |-- tolbutamide_No: integer (nullable = false)\n",
      " |-- pioglitazone_Steady: integer (nullable = false)\n",
      " |-- pioglitazone_Up: integer (nullable = false)\n",
      " |-- pioglitazone_No: integer (nullable = false)\n",
      " |-- pioglitazone_Down: integer (nullable = false)\n",
      " |-- rosiglitazone_Steady: integer (nullable = false)\n",
      " |-- rosiglitazone_Up: integer (nullable = false)\n",
      " |-- rosiglitazone_No: integer (nullable = false)\n",
      " |-- rosiglitazone_Down: integer (nullable = false)\n",
      " |-- acarbose_Steady: integer (nullable = false)\n",
      " |-- acarbose_Up: integer (nullable = false)\n",
      " |-- acarbose_No: integer (nullable = false)\n",
      " |-- acarbose_Down: integer (nullable = false)\n",
      " |-- miglitol_Steady: integer (nullable = false)\n",
      " |-- miglitol_Up: integer (nullable = false)\n",
      " |-- miglitol_No: integer (nullable = false)\n",
      " |-- miglitol_Down: integer (nullable = false)\n",
      " |-- troglitazone_Steady: integer (nullable = false)\n",
      " |-- troglitazone_No: integer (nullable = false)\n",
      " |-- tolazamide_Steady: integer (nullable = false)\n",
      " |-- tolazamide_Up: integer (nullable = false)\n",
      " |-- tolazamide_No: integer (nullable = false)\n",
      " |-- examide_No: integer (nullable = false)\n",
      " |-- citoglipton_No: integer (nullable = false)\n",
      " |-- insulin_Steady: integer (nullable = false)\n",
      " |-- insulin_Up: integer (nullable = false)\n",
      " |-- insulin_No: integer (nullable = false)\n",
      " |-- insulin_Down: integer (nullable = false)\n",
      " |-- glyburide-metformin_Steady: integer (nullable = false)\n",
      " |-- glyburide-metformin_Up: integer (nullable = false)\n",
      " |-- glyburide-metformin_No: integer (nullable = false)\n",
      " |-- glyburide-metformin_Down: integer (nullable = false)\n",
      " |-- glipizide-metformin_Steady: integer (nullable = false)\n",
      " |-- glipizide-metformin_No: integer (nullable = false)\n",
      " |-- glimepiride-pioglitazone_Steady: integer (nullable = false)\n",
      " |-- glimepiride-pioglitazone_No: integer (nullable = false)\n",
      " |-- metformin-rosiglitazone_No: integer (nullable = false)\n",
      " |-- metformin-pioglitazone_Steady: integer (nullable = false)\n",
      " |-- metformin-pioglitazone_No: integer (nullable = false)\n",
      " |-- change_Ch: integer (nullable = false)\n",
      " |-- change_No: integer (nullable = false)\n",
      " |-- diabetesMed_No: integer (nullable = false)\n",
      " |-- diabetesMed_Yes: integer (nullable = false)\n",
      " |-- diag_1_428: integer (nullable = false)\n",
      " |-- diag_1_786: integer (nullable = false)\n",
      " |-- diag_1_410: integer (nullable = false)\n",
      " |-- diag_1_486: integer (nullable = false)\n",
      " |-- diag_1_414: integer (nullable = false)\n",
      " |-- diag_1_427: integer (nullable = false)\n",
      " |-- diag_2_428: integer (nullable = false)\n",
      " |-- diag_2_250: integer (nullable = false)\n",
      " |-- diag_2_276: integer (nullable = false)\n",
      " |-- diag_2_401: integer (nullable = false)\n",
      " |-- diag_2_496: integer (nullable = false)\n",
      " |-- diag_2_403: integer (nullable = false)\n",
      " |-- diag_2_414: integer (nullable = false)\n",
      " |-- diag_2_427: integer (nullable = false)\n",
      " |-- diag_2_599: integer (nullable = false)\n",
      " |-- diag_3_428: integer (nullable = false)\n",
      " |-- diag_3_250: integer (nullable = false)\n",
      " |-- diag_3_276: integer (nullable = false)\n",
      " |-- diag_3_401: integer (nullable = false)\n",
      " |-- diag_3_496: integer (nullable = false)\n",
      " |-- diag_3_414: integer (nullable = false)\n",
      " |-- diag_3_427: integer (nullable = false)\n",
      "\n"
     ]
    }
   ],
   "source": [
    "dataset.printSchema()"
   ]
  },
  {
   "cell_type": "markdown",
   "metadata": {},
   "source": [
    "parquet doesn't allow having \" ,;{}()\\\\n\\\\t=\" these characters in column names so we rename the age column"
   ]
  },
  {
   "cell_type": "code",
   "execution_count": 116,
   "metadata": {},
   "outputs": [],
   "source": [
    "dataset = dataset.withColumnRenamed('age_[70-80)', 'age_[70-80]')\n",
    "dataset = dataset.withColumnRenamed('age_[90-100)', 'age_[90-100]')\n",
    "dataset = dataset.withColumnRenamed('age_[40-50)', 'age_[40-50]')\n",
    "dataset = dataset.withColumnRenamed('age_[10-20)', 'age_[10-20]')\n",
    "dataset = dataset.withColumnRenamed('age_[20-30)', 'age_[20-30]')\n",
    "dataset = dataset.withColumnRenamed('age_[30-40)', 'age_[30-40]')\n",
    "dataset = dataset.withColumnRenamed('age_[0-10)', 'age_[0-10]')\n",
    "dataset = dataset.withColumnRenamed('age_[80-90)', 'age_[80-90]')\n",
    "dataset = dataset.withColumnRenamed('age_[50-60)', 'age_[50-60]')\n",
    "dataset = dataset.withColumnRenamed('age_[60-70)', 'age_[60-70]')"
   ]
  },
  {
   "cell_type": "code",
   "execution_count": 118,
   "metadata": {},
   "outputs": [],
   "source": [
    "# dataset.printSchema()"
   ]
  },
  {
   "cell_type": "code",
   "execution_count": 119,
   "metadata": {},
   "outputs": [],
   "source": [
    "dataset.write.parquet('./parquet_files/dataset.parquet')"
   ]
  },
  {
   "cell_type": "code",
   "execution_count": null,
   "metadata": {},
   "outputs": [],
   "source": []
  }
 ],
 "metadata": {
  "kernelspec": {
   "display_name": "Python 3",
   "language": "python",
   "name": "python3"
  },
  "language_info": {
   "codemirror_mode": {
    "name": "ipython",
    "version": 3
   },
   "file_extension": ".py",
   "mimetype": "text/x-python",
   "name": "python",
   "nbconvert_exporter": "python",
   "pygments_lexer": "ipython3",
   "version": "3.6.8"
  }
 },
 "nbformat": 4,
 "nbformat_minor": 2
}
